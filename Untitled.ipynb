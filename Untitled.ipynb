{
 "cells": [
  {
   "cell_type": "code",
   "execution_count": 10,
   "id": "c95a7aa3-8dcf-4a89-b800-6c78245a587a",
   "metadata": {
    "tags": []
   },
   "outputs": [],
   "source": [
    "\n",
    "                function formatDate(d) {\n",
    "                    var day = String(d.getDate())\n",
    "                    //add leading zero if day is is single digit\n",
    "                    if (day.length == 1)\n",
    "                        day = '0' + day\n",
    "                    var month = String((d.getMonth() + 1))\n",
    "                    //add leading zero if month is is single digit\n",
    "                    if (month.length == 1)\n",
    "                        month = '0' + month\n",
    "                    return day + \"-\" + month + \"-\" + d.getFullYear()\n",
    "                }\n",
    "\n",
    "                $(function () {\n",
    "                    $.ajaxSetup({\n",
    "                        headers: {\n",
    "                            'X-CSRF-TOKEN': $('meta[name=\"csrf-token\"]').attr('content')\n",
    "                        }\n",
    "                    });\n",
    "\n",
    "                    function senddate(fulldate) {\n",
    "                        var set_new_consular_id = '1';\n",
    "                        var set_new_exit_office_id = $('.office').val();\n",
    "                        var set_new_service_type_id = $('.officetype').val();\n",
    "                        var set_new_calendar_type = $('.setnewcalendarstatus').val();\n",
    "\n",
    "                        if (fulldate.length > 7) {\n",
    "                            $.ajax({\n",
    "                                url: \"https://it-ir-appointment.visametric.com/ir/appointment-form/senddate\",\n",
    "                                type: \"POST\",\n",
    "                                async: false,\n",
    "                                data: {\n",
    "                                    fulldate: fulldate,\n",
    "                                    totalperson: personCount,\n",
    "                                    set_new_consular_id: set_new_consular_id,\n",
    "                                    set_new_exit_office_id: set_new_exit_office_id,\n",
    "                                    calendarType: set_new_calendar_type,\n",
    "                                    set_new_service_type_id: set_new_service_type_id,\n",
    "                                    personalinfo: 'eyJpdiI6IkpqYTZXR3p1dmVPMGpNY0dCS21GaWc9PSIsInZhbHVlIjoiVnExQ1Yzc2ZLajVrTDN6N0ZRKzV6QT09IiwibWFjIjoiNWU4MDc4ZDBjNmE5ZjQ1ZWM1MGVmZjQ0NWUxZDJiZThkYzAxMzE5ZDI5ZmJhN2MwNzUyYWNmODc1MGQzMDAwNyJ9',\n",
    "                                    mailConfirmCode: $('#mailConfirmCodeControl').val()\n",
    "                                },\n",
    "                                success: function (response) {\n",
    "                                    $('.dateresult').html('');\n",
    "                                    $('.dateresult').show('slow');\n",
    "                                    $('.dateresult').html(response);\n",
    "                                },\n",
    "                                error: function (jqXHR, textStatus, errorThrown) {\n",
    "                                    // console.log(textStatus, errorThrown);\n",
    "                                }\n",
    "                            });\n",
    "                        }\n",
    "                    }\n",
    "\n",
    "                    $('#datepicker').on('changeDate', function (ev) {\n",
    "                        var fulldate = $('.calendarinput').val();\n",
    "                        ct = 0;\n",
    "                        qtallvertval = 0;\n",
    "                        $('.dateresult').hide('slow');\n",
    "                        setTimeout(function () {\n",
    "                            senddate(fulldate);\n",
    "                        }, 100);\n",
    "                        $(\".set_app_time\").html('');\n",
    "                        $(\".set_app_date\").html(\"<b>تاریخ:</b> \" + fulldate + '');\n",
    "\n",
    "                    });\n",
    "\n",
    "                });\n",
    "\n",
    "                $(document).ready(function () {\n",
    "\n",
    "                    $('body').on('click', '.getdatebtnhour', function () {\n",
    "                        $('.noPrime').css('background-color', '#f0ad4e');\n",
    "                        $('.yesPrime').css('background-color', '#337ab7');\n",
    "\n",
    "                        $(this).css('background-color', '#000');\n",
    "\n",
    "                        $(this).addClass(\"xt5dk3ce\");\n",
    "\n",
    "                        ct = $(this).attr('data-id');\n",
    "                        $('#ctval').val(ct);\n",
    "\n",
    "                        qtallvertval = $(this).attr('data-all');\n",
    "                        $('#qtallvert').val(qtallvertval);\n",
    "\n",
    "                        var set_app_time = $(this).text();\n",
    "                        $(\".set_app_time\").html(\"<b>زمان:</b>\" + set_app_time + '');\n",
    "                    });\n",
    "                });\n",
    "            "
   ]
  },
  {
   "cell_type": "code",
   "execution_count": 11,
   "id": "5338f30b-640b-4b45-83e8-a572516e0417",
   "metadata": {},
   "outputs": [
    {
     "data": {
      "text/plain": [
       "{'method': 'gettext',\n",
       " 'success': True,\n",
       " 'requestId': '0055ab21-4365-4d11-8a6f-156774967eca',\n",
       " 'time_taken': 0.607868,\n",
       " 'cluster_name': 'MAIN_CLASSES_ALL_1329__60_235_RGB_JPEG_1__OTHER',\n",
       " 'case': 'upper',\n",
       " 'cluster_accuracy': None,\n",
       " 'confidence': 0.7070125445350414,\n",
       " 'valid': False,\n",
       " 'mode': '143_730',\n",
       " 'lambda': 'HelloClusterCaptchaOnnx',\n",
       " 'result': 'TVKCIA1U'}"
      ]
     },
     "execution_count": 11,
     "metadata": {},
     "output_type": "execute_result"
    }
   ],
   "source": [
    "result"
   ]
  },
  {
   "cell_type": "code",
   "execution_count": 9,
   "id": "7df8d6ca-c579-4e0b-8fe0-566e7556bca2",
   "metadata": {},
   "outputs": [
    {
     "data": {
      "text/plain": [
       "CompletedProcess(args=['wkhtmltoimage', '--format', 'png', '--quality', '100', '--width', '0', '--height', '0', 'input.html', 'out.png'], returncode=0)"
      ]
     },
     "execution_count": 9,
     "metadata": {},
     "output_type": "execute_result"
    }
   ],
   "source": [
    "subprocess.run(['wkhtmltoimage', '--format', 'png', '--quality', '100', '--width', '0', '--height', '0', 'input.html', 'out.png'])\n",
    "    "
   ]
  },
  {
   "cell_type": "code",
   "execution_count": 8,
   "id": "9195a82a-bb2f-43e4-904f-483b386814da",
   "metadata": {},
   "outputs": [
    {
     "name": "stdout",
     "output_type": "stream",
     "text": [
      "{'activation_code': '42EE1956', 'status': 'success'}\n"
     ]
    }
   ],
   "source": [
    "import requests\n",
    "import json\n",
    "\n",
    "url = \"http://localhost:5000/confirmation_code\"  # replace with your server URL if different\n",
    "\n",
    "data = {\n",
    "    \"username\": \"milad.mirzazadeh@yahoo.com\",\n",
    "    \"password\": \"unijfggfzlohuhcw\"\n",
    "}\n",
    "\n",
    "headers = {'Content-type': 'application/json'}\n",
    "\n",
    "response = requests.post(url, data=json.dumps(data), headers=headers)\n",
    "\n",
    "print(response.json())"
   ]
  },
  {
   "cell_type": "code",
   "execution_count": null,
   "id": "f9d87a31-248b-49a7-9859-01120b1300e6",
   "metadata": {},
   "outputs": [],
   "source": []
  }
 ],
 "metadata": {
  "kernelspec": {
   "display_name": "Python 3",
   "language": "python",
   "name": "python3"
  },
  "language_info": {
   "codemirror_mode": {
    "name": "ipython",
    "version": 3
   },
   "file_extension": ".py",
   "mimetype": "text/x-python",
   "name": "python",
   "nbconvert_exporter": "python",
   "pygments_lexer": "ipython3",
   "version": "3.8.8"
  }
 },
 "nbformat": 4,
 "nbformat_minor": 5
}
